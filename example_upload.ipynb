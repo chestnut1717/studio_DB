{
 "cells": [
  {
   "cell_type": "code",
   "execution_count": 4,
   "id": "56911046",
   "metadata": {},
   "outputs": [
    {
     "name": "stdout",
     "output_type": "stream",
     "text": [
      "c:\\Users\\I572639\\Desktop\\Learning_School\\2023-1\\CapstoneDesign\\studio_DB\\.venv\\Scripts\\python.exe\n"
     ]
    }
   ],
   "source": [
    "import sys\n",
    "print(sys.executable)"
   ]
  },
  {
   "cell_type": "code",
   "execution_count": 5,
   "id": "bbd328af-92f1-4b8b-baa8-87a30e4e21b6",
   "metadata": {},
   "outputs": [],
   "source": [
    "from utils.load_data import RequestData, RequestBusData, DataPreprocess\n",
    "from utils.columns import Columns\n",
    "\n",
    "import pandas as pd\n",
    "import os\n",
    "\n",
    "# warning 무시\n",
    "import warnings\n",
    "warnings.filterwarnings(action='ignore')\n",
    "\n",
    "from tqdm import tqdm"
   ]
  },
  {
   "cell_type": "code",
   "execution_count": 6,
   "id": "d38d3b23-673f-4233-8b75-1c3d98a1d2b2",
   "metadata": {},
   "outputs": [],
   "source": [
    "# 모듈 수정할 때 사용\n",
    "import importlib\n",
    "# importlib.reload(utils.db_connector)\n",
    "\n",
    "pd.set_option(\"display.max_columns\", 50)"
   ]
  },
  {
   "cell_type": "code",
   "execution_count": 4,
   "id": "50f6427a-4785-4f4f-aee7-aa67f2ed036d",
   "metadata": {},
   "outputs": [],
   "source": [
    "# MySQL 데이터 적재"
   ]
  },
  {
   "cell_type": "code",
   "execution_count": 8,
   "id": "5ed7349f-f034-42b0-b3ce-96d392eafe5d",
   "metadata": {},
   "outputs": [],
   "source": [
    "# db정보 들어있는 텍스트파일\n",
    "db_info_path = 'secret_key/db_info.txt'\n",
    "db_info_dict = {}\n",
    "\n",
    "with open(db_info_path, 'r', encoding='utf-8') as f:\n",
    "    for line in f.readlines():\n",
    "        line_info = line.split('=')\n",
    "        key = line_info[0].strip()\n",
    "        val = line_info[1].strip()\n",
    "        \n",
    "        db_info_dict[key] = val\n"
   ]
  },
  {
   "cell_type": "code",
   "execution_count": 9,
   "id": "94ceef04-7ef3-457a-b931-d35b4204945e",
   "metadata": {},
   "outputs": [
    {
     "data": {
      "text/plain": [
       "'mydata'"
      ]
     },
     "execution_count": 9,
     "metadata": {},
     "output_type": "execute_result"
    }
   ],
   "source": [
    "db_info_dict['database']"
   ]
  },
  {
   "cell_type": "code",
   "execution_count": 10,
   "id": "0513c8cc-78a6-4be3-a5c2-e63c52764f22",
   "metadata": {},
   "outputs": [],
   "source": [
    "# Mysql db 연결\n",
    "from utils.db_connector import DBManagement"
   ]
  },
  {
   "cell_type": "code",
   "execution_count": 11,
   "id": "bf5c2e74",
   "metadata": {},
   "outputs": [
    {
     "name": "stdout",
     "output_type": "stream",
     "text": [
      "성공적으로 MySQL mydata 데이터베이스에 연결 완료\n"
     ]
    }
   ],
   "source": [
    "# localdata 데이터베이스에 connection\n",
    "dbm = DBManagement(\n",
    "    **db_info_dict\n",
    ")\n",
    "\n",
    "print(f'성공적으로 MySQL {db_info_dict[\"database\"]} 데이터베이스에 연결 완료')"
   ]
  },
  {
   "cell_type": "code",
   "execution_count": null,
   "metadata": {},
   "outputs": [],
   "source": []
  },
  {
   "cell_type": "markdown",
   "id": "a2e93395-4ea2-433f-81c2-2218cc1012cf",
   "metadata": {},
   "source": [
    "## 1.1 bulk형 csv파일 적재\n",
    "- 각 인허가 csv파일에 대해 로드 -> 전처리 -> Mysql 적재과정"
   ]
  },
  {
   "cell_type": "code",
   "execution_count": 12,
   "id": "bb7621f0-05c0-407d-983b-f0c8548fee25",
   "metadata": {},
   "outputs": [
    {
     "data": {
      "text/plain": [
       "['01_hospital.csv',\n",
       " '02_pharmacy.csv',\n",
       " '03_laundry.csv',\n",
       " '04_hair.csv',\n",
       " '05_gym.csv',\n",
       " '06_mart.csv',\n",
       " '07_cafe.csv',\n",
       " '08_convenience.csv']"
      ]
     },
     "execution_count": 12,
     "metadata": {},
     "output_type": "execute_result"
    }
   ],
   "source": [
    "# 파일 경로 검색\n",
    "# 절대경로\n",
    "path = os.getcwd()\n",
    "\n",
    "csv_path = os.getcwd() + '/csv_data'\n",
    "in_csv_files = sorted(os.listdir(csv_path))\n",
    "\n",
    "try:\n",
    "    in_csv_files.remove('.DS_Store')\n",
    "except:\n",
    "    pass\n",
    "\n",
    "in_csv_files"
   ]
  },
  {
   "cell_type": "code",
   "execution_count": 13,
   "id": "31c48580-a79f-465f-9d75-397c3c39caa2",
   "metadata": {},
   "outputs": [
    {
     "data": {
      "text/plain": [
       "['opnSfTeamCode',\n",
       " 'mgtNo',\n",
       " 'opnSvcId',\n",
       " 'updateGbn',\n",
       " 'updateDt',\n",
       " 'bplcNm',\n",
       " 'sitePostNo',\n",
       " 'siteWhlAddr',\n",
       " 'rdnPostNo',\n",
       " 'rdnWhlAddr',\n",
       " 'trdStateGbn',\n",
       " 'dtlStateGbn',\n",
       " 'x',\n",
       " 'y',\n",
       " 'lastModTs',\n",
       " 'uptaeNm',\n",
       " 'coordinates']"
      ]
     },
     "execution_count": 13,
     "metadata": {},
     "output_type": "execute_result"
    }
   ],
   "source": [
    "columns_dict = {\n",
    "                '개방자치단체코드': 'opnSfTeamCode',\n",
    "                '관리번호': 'mgtNo',\n",
    "                '개방서비스아이디': 'opnSvcId',\n",
    "                '데이터갱신구분': 'updateGbn',\n",
    "                '데이터갱신일자': 'updateDt',\n",
    "                '사업장명': 'bplcNm',\n",
    "                '소재지우편번호': 'sitePostNo',\n",
    "                '소재지전체주소': 'siteWhlAddr',\n",
    "                '도로명우편번호': 'rdnPostNo',\n",
    "                '도로명전체주소': 'rdnWhlAddr',\n",
    "                '영업상태구분코드': 'trdStateGbn',\n",
    "                '상세영업상태코드': 'dtlStateGbn',\n",
    "                '좌표정보(X)': 'x',\n",
    "                '좌표정보(Y)': 'y',\n",
    "                '최종수정시점': 'lastModTs',\n",
    "                '업태구분명': 'uptaeNm',\n",
    "               }\n",
    "\n",
    "# 영문 column(API 요청할때나 MySQL 적재할 때 사용)\n",
    "cols = Columns(columns_dict)\n",
    "\n",
    "# MySQL에서 적재할 때, POINT type으로 추가로 위경도 저장하기 때문에\n",
    "cols_eng = cols.eng + ['coordinates']\n",
    "cols_eng"
   ]
  },
  {
   "cell_type": "code",
   "execution_count": 11,
   "id": "b6611a71-42ed-4e49-963c-1101d342eb86",
   "metadata": {},
   "outputs": [
    {
     "name": "stderr",
     "output_type": "stream",
     "text": [
      "69935it [01:34, 743.76it/s] \n"
     ]
    },
    {
     "name": "stdout",
     "output_type": "stream",
     "text": [
      "01_hospital.csv 작업 완료\n"
     ]
    },
    {
     "name": "stderr",
     "output_type": "stream",
     "text": [
      "24046it [00:37, 644.08it/s] \n"
     ]
    },
    {
     "name": "stdout",
     "output_type": "stream",
     "text": [
      "02_pharmacy.csv 작업 완료\n"
     ]
    },
    {
     "name": "stderr",
     "output_type": "stream",
     "text": [
      "20784it [00:26, 798.06it/s] \n"
     ]
    },
    {
     "name": "stdout",
     "output_type": "stream",
     "text": [
      "03_laundry.csv 작업 완료\n"
     ]
    },
    {
     "name": "stderr",
     "output_type": "stream",
     "text": [
      "188252it [05:48, 540.25it/s]\n"
     ]
    },
    {
     "name": "stdout",
     "output_type": "stream",
     "text": [
      "04_hair.csv 작업 완료\n"
     ]
    },
    {
     "name": "stderr",
     "output_type": "stream",
     "text": [
      "37717it [01:01, 616.06it/s] \n"
     ]
    },
    {
     "name": "stdout",
     "output_type": "stream",
     "text": [
      "05_gym.csv 작업 완료\n"
     ]
    },
    {
     "name": "stderr",
     "output_type": "stream",
     "text": [
      "2697it [00:04, 650.90it/s]\n"
     ]
    },
    {
     "name": "stdout",
     "output_type": "stream",
     "text": [
      "06_mart.csv 작업 완료\n"
     ]
    },
    {
     "name": "stderr",
     "output_type": "stream",
     "text": [
      "50598it [01:02, 808.45it/s] \n"
     ]
    },
    {
     "name": "stdout",
     "output_type": "stream",
     "text": [
      "07_cafe.csv 작업 완료\n"
     ]
    },
    {
     "name": "stderr",
     "output_type": "stream",
     "text": [
      "52052it [01:17, 669.53it/s] \n"
     ]
    },
    {
     "name": "stdout",
     "output_type": "stream",
     "text": [
      "08_convenience.csv 작업 완료\n"
     ]
    },
    {
     "data": {
      "text/html": [
       "<div>\n",
       "<style scoped>\n",
       "    .dataframe tbody tr th:only-of-type {\n",
       "        vertical-align: middle;\n",
       "    }\n",
       "\n",
       "    .dataframe tbody tr th {\n",
       "        vertical-align: top;\n",
       "    }\n",
       "\n",
       "    .dataframe thead th {\n",
       "        text-align: right;\n",
       "    }\n",
       "</style>\n",
       "<table border=\"1\" class=\"dataframe\">\n",
       "  <thead>\n",
       "    <tr style=\"text-align: right;\">\n",
       "      <th></th>\n",
       "      <th>opnSfTeamCode</th>\n",
       "      <th>mgtNo</th>\n",
       "      <th>opnSvcId</th>\n",
       "      <th>updateGbn</th>\n",
       "      <th>updateDt</th>\n",
       "      <th>bplcNm</th>\n",
       "      <th>sitePostNo</th>\n",
       "      <th>siteWhlAddr</th>\n",
       "      <th>rdnPostNo</th>\n",
       "      <th>rdnWhlAddr</th>\n",
       "      <th>trdStateGbn</th>\n",
       "      <th>dtlStateGbn</th>\n",
       "      <th>x</th>\n",
       "      <th>y</th>\n",
       "      <th>lastModTs</th>\n",
       "      <th>uptaeNm</th>\n",
       "      <th>lat</th>\n",
       "      <th>lon</th>\n",
       "    </tr>\n",
       "  </thead>\n",
       "  <tbody>\n",
       "    <tr>\n",
       "      <th>0</th>\n",
       "      <td>3000000</td>\n",
       "      <td>2010300012905600099</td>\n",
       "      <td>11_43_02_P</td>\n",
       "      <td>I</td>\n",
       "      <td>2018-08-31 23:59:59</td>\n",
       "      <td>씨유 종로원서점</td>\n",
       "      <td>110-280</td>\n",
       "      <td>서울특별시 종로구 원서동 45번지 1층</td>\n",
       "      <td>NULL</td>\n",
       "      <td>서울특별시 종로구 창덕궁길 120 (원서동,1층)</td>\n",
       "      <td>1</td>\n",
       "      <td>0</td>\n",
       "      <td>198988.459597</td>\n",
       "      <td>453392.779978</td>\n",
       "      <td>2012-07-19 17:29:20</td>\n",
       "      <td>NULL</td>\n",
       "      <td>126.989336</td>\n",
       "      <td>37.582836</td>\n",
       "    </tr>\n",
       "    <tr>\n",
       "      <th>1</th>\n",
       "      <td>3000000</td>\n",
       "      <td>2011300012905600061</td>\n",
       "      <td>11_43_02_P</td>\n",
       "      <td>I</td>\n",
       "      <td>2018-08-31 23:59:59</td>\n",
       "      <td>세븐일레븐 종로인의점</td>\n",
       "      <td>110-410</td>\n",
       "      <td>서울특별시 종로구 인의동 31번지</td>\n",
       "      <td>NULL</td>\n",
       "      <td>서울특별시 종로구 종로31길 27 (인의동)</td>\n",
       "      <td>1</td>\n",
       "      <td>0</td>\n",
       "      <td>199888.381723</td>\n",
       "      <td>452197.706939</td>\n",
       "      <td>2017-02-06 09:25:59</td>\n",
       "      <td>NULL</td>\n",
       "      <td>126.999524</td>\n",
       "      <td>37.572069</td>\n",
       "    </tr>\n",
       "    <tr>\n",
       "      <th>2</th>\n",
       "      <td>3000000</td>\n",
       "      <td>2019300020205600048</td>\n",
       "      <td>11_43_02_P</td>\n",
       "      <td>I</td>\n",
       "      <td>2019-07-11 02:21:33</td>\n",
       "      <td>이마트24종로마루점</td>\n",
       "      <td>NULL</td>\n",
       "      <td>서울특별시 종로구 숭인동 211번지 7호 흥남빌딩</td>\n",
       "      <td>03115</td>\n",
       "      <td>서울특별시 종로구 난계로27길 44-7, 흥남빌딩 (숭인동)</td>\n",
       "      <td>1</td>\n",
       "      <td>0</td>\n",
       "      <td>201744.215856</td>\n",
       "      <td>452328.641292</td>\n",
       "      <td>2019-07-09 10:01:09</td>\n",
       "      <td>NULL</td>\n",
       "      <td>127.020532</td>\n",
       "      <td>37.573247</td>\n",
       "    </tr>\n",
       "    <tr>\n",
       "      <th>5</th>\n",
       "      <td>3000000</td>\n",
       "      <td>2019300020205600053</td>\n",
       "      <td>11_43_02_P</td>\n",
       "      <td>I</td>\n",
       "      <td>2019-08-15 02:22:17</td>\n",
       "      <td>씨유 종로관훈점</td>\n",
       "      <td>NULL</td>\n",
       "      <td>서울특별시 종로구 관훈동 198번지 17호 일정빌딩</td>\n",
       "      <td>03149</td>\n",
       "      <td>서울특별시 종로구 인사동7길 37, 일정빌딩 1층 (관훈동)</td>\n",
       "      <td>1</td>\n",
       "      <td>0</td>\n",
       "      <td>198574.909900</td>\n",
       "      <td>452264.246969</td>\n",
       "      <td>2019-08-13 17:11:38</td>\n",
       "      <td>NULL</td>\n",
       "      <td>126.984656</td>\n",
       "      <td>37.572667</td>\n",
       "    </tr>\n",
       "    <tr>\n",
       "      <th>7</th>\n",
       "      <td>3000000</td>\n",
       "      <td>2019300020205600038</td>\n",
       "      <td>11_43_02_P</td>\n",
       "      <td>I</td>\n",
       "      <td>2019-06-14 02:21:30</td>\n",
       "      <td>GS25종로로얄점</td>\n",
       "      <td>NULL</td>\n",
       "      <td>서울특별시 종로구 수송동 85번지 서머셋팰리스서울</td>\n",
       "      <td>03143</td>\n",
       "      <td>서울특별시 종로구 율곡로2길 7, 서머셋팰리스서울 1층 1호 (수송동)</td>\n",
       "      <td>1</td>\n",
       "      <td>0</td>\n",
       "      <td>198271.843790</td>\n",
       "      <td>452533.899674</td>\n",
       "      <td>2019-06-12 09:02:55</td>\n",
       "      <td>NULL</td>\n",
       "      <td>126.981225</td>\n",
       "      <td>37.575096</td>\n",
       "    </tr>\n",
       "  </tbody>\n",
       "</table>\n",
       "</div>"
      ],
      "text/plain": [
       "   opnSfTeamCode                mgtNo    opnSvcId updateGbn  \\\n",
       "0        3000000  2010300012905600099  11_43_02_P         I   \n",
       "1        3000000  2011300012905600061  11_43_02_P         I   \n",
       "2        3000000  2019300020205600048  11_43_02_P         I   \n",
       "5        3000000  2019300020205600053  11_43_02_P         I   \n",
       "7        3000000  2019300020205600038  11_43_02_P         I   \n",
       "\n",
       "              updateDt       bplcNm sitePostNo                   siteWhlAddr  \\\n",
       "0  2018-08-31 23:59:59     씨유 종로원서점    110-280         서울특별시 종로구 원서동 45번지 1층   \n",
       "1  2018-08-31 23:59:59  세븐일레븐 종로인의점    110-410            서울특별시 종로구 인의동 31번지   \n",
       "2  2019-07-11 02:21:33   이마트24종로마루점       NULL   서울특별시 종로구 숭인동 211번지 7호 흥남빌딩   \n",
       "5  2019-08-15 02:22:17     씨유 종로관훈점       NULL  서울특별시 종로구 관훈동 198번지 17호 일정빌딩   \n",
       "7  2019-06-14 02:21:30    GS25종로로얄점       NULL   서울특별시 종로구 수송동 85번지 서머셋팰리스서울   \n",
       "\n",
       "  rdnPostNo                               rdnWhlAddr  trdStateGbn dtlStateGbn  \\\n",
       "0      NULL              서울특별시 종로구 창덕궁길 120 (원서동,1층)            1           0   \n",
       "1      NULL                 서울특별시 종로구 종로31길 27 (인의동)            1           0   \n",
       "2     03115        서울특별시 종로구 난계로27길 44-7, 흥남빌딩 (숭인동)            1           0   \n",
       "5     03149        서울특별시 종로구 인사동7길 37, 일정빌딩 1층 (관훈동)            1           0   \n",
       "7     03143  서울특별시 종로구 율곡로2길 7, 서머셋팰리스서울 1층 1호 (수송동)            1           0   \n",
       "\n",
       "               x              y            lastModTs uptaeNm         lat  \\\n",
       "0  198988.459597  453392.779978  2012-07-19 17:29:20    NULL  126.989336   \n",
       "1  199888.381723  452197.706939  2017-02-06 09:25:59    NULL  126.999524   \n",
       "2  201744.215856  452328.641292  2019-07-09 10:01:09    NULL  127.020532   \n",
       "5  198574.909900  452264.246969  2019-08-13 17:11:38    NULL  126.984656   \n",
       "7  198271.843790  452533.899674  2019-06-12 09:02:55    NULL  126.981225   \n",
       "\n",
       "         lon  \n",
       "0  37.582836  \n",
       "1  37.572069  \n",
       "2  37.573247  \n",
       "5  37.572667  \n",
       "7  37.575096  "
      ]
     },
     "execution_count": 11,
     "metadata": {},
     "output_type": "execute_result"
    }
   ],
   "source": [
    "# MySQL 저장코드\n",
    "for file_name in in_csv_files:\n",
    "\n",
    "\n",
    "    # 파일 경로\n",
    "    file_path = csv_path + '/' + file_name\n",
    "\n",
    "    # 데이터 로드\n",
    "    data_df = RequestData.get_csvdata(path = file_path)\n",
    "\n",
    "    # 전처리\n",
    "    data_preprocess_df = DataPreprocess.preprocess(data_df, columns_dict, is_bulk=True)\n",
    "    \n",
    "    # data_preprocess_df.sample(n=1000).to_csv(f'ex_{file_name[3:-4]}_5174.csv', index=False, encoding='cp949')\n",
    "    # table 생성\n",
    "    table_name = file_name[3:-4]\n",
    "    dbm.create_table(table_name)\n",
    "    dbm.commit()\n",
    "    \n",
    "    # DB에 데이터 젛기\n",
    "    for _, row in tqdm(data_preprocess_df.iterrows(), mininterval=0.01):\n",
    "        dbm.update_record(table_name, row, cols_eng)\n",
    "\n",
    "\n",
    "    # 완료되면 commit\n",
    "    dbm.commit()\n",
    "    \n",
    "\n",
    "    print(f\"{file_name} 작업 완료\")\n",
    "\n",
    "data_preprocess_df.head()"
   ]
  },
  {
   "cell_type": "code",
   "execution_count": 12,
   "id": "da49d149-1a33-4669-87a8-a8c5ce589e35",
   "metadata": {},
   "outputs": [
    {
     "data": {
      "text/plain": [
       "'\\n# MySQL 저장코드\\nfor file_name in in_csv_files:\\n    # 파일 경로\\n    file_path = csv_path + \\'/\\' + file_name\\n\\n    # 데이터 로드\\n    data_df = RequestData.get_csvdata(path = file_path)\\n\\n    # 전처리\\n    data_preprocess_df = DataPreprocess.preprocess(data_df, columns_dict, is_bulk=True)\\n    \\n    # table 생성\\n    table_name = file_name[3:-4]\\n    try:\\n        dbm.create_table(table_name)\\n        dbm.commit()\\n    except ProgrammingError as e:\\n        if e.errno == 1050:\\n            # Table already exists, ignore the error and continue\\n            pass\\n        else:\\n            # Reraise the exception if it\\'s not related to the existing table error\\n            raise\\n    \\n    # DB에 데이터 젛기\\n    for _, row in tqdm(data_preprocess_df.iterrows(), mininterval=0.01):\\n        dbm.update_record(row, cols_eng)\\n\\n    # 완료되면 commit\\n    dbm.commit()\\n    \\n    print(f\"{file_name} 작업 완료\")\\n\\ndata_preprocess_df.head()\\n'"
      ]
     },
     "execution_count": 12,
     "metadata": {},
     "output_type": "execute_result"
    }
   ],
   "source": [
    "\"\"\"\n",
    "# MySQL 저장코드\n",
    "for file_name in in_csv_files:\n",
    "    # 파일 경로\n",
    "    file_path = csv_path + '/' + file_name\n",
    "\n",
    "    # 데이터 로드\n",
    "    data_df = RequestData.get_csvdata(path = file_path)\n",
    "\n",
    "    # 전처리\n",
    "    data_preprocess_df = DataPreprocess.preprocess(data_df, columns_dict, is_bulk=True)\n",
    "    \n",
    "    # table 생성\n",
    "    table_name = file_name[3:-4]\n",
    "    try:\n",
    "        dbm.create_table(table_name)\n",
    "        dbm.commit()\n",
    "    except ProgrammingError as e:\n",
    "        if e.errno == 1050:\n",
    "            # Table already exists, ignore the error and continue\n",
    "            pass\n",
    "        else:\n",
    "            # Reraise the exception if it's not related to the existing table error\n",
    "            raise\n",
    "    \n",
    "    # DB에 데이터 젛기\n",
    "    for _, row in tqdm(data_preprocess_df.iterrows(), mininterval=0.01):\n",
    "        dbm.update_record(row, cols_eng)\n",
    "\n",
    "    # 완료되면 commit\n",
    "    dbm.commit()\n",
    "    \n",
    "    print(f\"{file_name} 작업 완료\")\n",
    "\n",
    "data_preprocess_df.head()\n",
    "\"\"\""
   ]
  },
  {
   "cell_type": "code",
   "execution_count": null,
   "id": "cc6b8cb1-03f5-4d0f-91b7-fd6a2be5ea01",
   "metadata": {},
   "outputs": [],
   "source": []
  },
  {
   "cell_type": "code",
   "execution_count": 14,
   "id": "a7f94d10-ebf7-4cba-bb15-94f4db40a5ac",
   "metadata": {},
   "outputs": [],
   "source": [
    "# API에서 호출할 때, 파라미터 이름으로 쓰이는 서비스 이름 가져오는 함수\n",
    "def get_request_service_names(path, csv_name):\n",
    "    file_path = f\"{path}/excel_data/{csv_name[:-4]}\"\n",
    "    service_names = os.listdir(file_path)\n",
    "    \n",
    "    try:\n",
    "        service_names.remove('.DS_Store')\n",
    "    except:\n",
    "        pass\n",
    "    service_names = [ name[:-5] for name in service_names]\n",
    "    return service_names"
   ]
  },
  {
   "cell_type": "code",
   "execution_count": 18,
   "id": "56f1a750-5258-4c52-85b6-e2a7fa8b3759",
   "metadata": {},
   "outputs": [
    {
     "ename": "IndexError",
     "evalue": "list index out of range",
     "output_type": "error",
     "traceback": [
      "\u001b[1;31m---------------------------------------------------------------------------\u001b[0m",
      "\u001b[1;31mIndexError\u001b[0m                                Traceback (most recent call last)",
      "Cell \u001b[1;32mIn[18], line 33\u001b[0m\n\u001b[0;32m     20\u001b[0m csv_to_table_name \u001b[39m=\u001b[39m {\n\u001b[0;32m     21\u001b[0m     \u001b[39m'\u001b[39m\u001b[39m01_hospital.csv\u001b[39m\u001b[39m'\u001b[39m: \u001b[39m'\u001b[39m\u001b[39mhospital\u001b[39m\u001b[39m'\u001b[39m,\n\u001b[0;32m     22\u001b[0m     \u001b[39m'\u001b[39m\u001b[39m02_pharmacy.csv\u001b[39m\u001b[39m'\u001b[39m: \u001b[39m'\u001b[39m\u001b[39mpharmacy\u001b[39m\u001b[39m'\u001b[39m,\n\u001b[1;32m   (...)\u001b[0m\n\u001b[0;32m     28\u001b[0m     \u001b[39m'\u001b[39m\u001b[39m08_convenience.csv\u001b[39m\u001b[39m'\u001b[39m: \u001b[39m'\u001b[39m\u001b[39mconvenience\u001b[39m\u001b[39m'\u001b[39m,\n\u001b[0;32m     29\u001b[0m }\n\u001b[0;32m     31\u001b[0m \u001b[39mfor\u001b[39;00m image_file \u001b[39min\u001b[39;00m image_files:\n\u001b[0;32m     32\u001b[0m     \u001b[39m# Extract the CSV file name from the image_file name\u001b[39;00m\n\u001b[1;32m---> 33\u001b[0m     csv_file_name \u001b[39m=\u001b[39m image_file\u001b[39m.\u001b[39msplit(\u001b[39m'\u001b[39m\u001b[39m_\u001b[39m\u001b[39m'\u001b[39m)[\u001b[39m0\u001b[39m] \u001b[39m+\u001b[39m \u001b[39m'\u001b[39m\u001b[39m_\u001b[39m\u001b[39m'\u001b[39m \u001b[39m+\u001b[39m image_file\u001b[39m.\u001b[39;49msplit(\u001b[39m'\u001b[39;49m\u001b[39m_\u001b[39;49m\u001b[39m'\u001b[39;49m)[\u001b[39m1\u001b[39;49m] \u001b[39m+\u001b[39m \u001b[39m'\u001b[39m\u001b[39m.csv\u001b[39m\u001b[39m'\u001b[39m\n\u001b[0;32m     34\u001b[0m     related_table_name \u001b[39m=\u001b[39m csv_to_table_name\u001b[39m.\u001b[39mget(csv_file_name, \u001b[39m'\u001b[39m\u001b[39munknown\u001b[39m\u001b[39m'\u001b[39m)\n\u001b[0;32m     36\u001b[0m     image_path \u001b[39m=\u001b[39m os\u001b[39m.\u001b[39mpath\u001b[39m.\u001b[39mjoin(image_path, image_file)\n",
      "\u001b[1;31mIndexError\u001b[0m: list index out of range"
     ]
    }
   ],
   "source": [
    "import os\n",
    "\n",
    "# File path search\n",
    "# Absolute path\n",
    "path = os.getcwd()\n",
    "\n",
    "image_path = os.path.join(path, 'image_data')\n",
    "image_files = sorted(os.listdir(image_path))\n",
    "\n",
    "try:\n",
    "    image_files.remove('.DS_Store')\n",
    "except:\n",
    "    pass\n",
    "\n",
    "# Filter out non-image files (optional)\n",
    "image_extensions = ['.jpg', '.jpeg', '.png', '.bmp', '.gif', '.tiff']\n",
    "image_files = [f for f in image_files if os.path.splitext(f)[-1].lower() in image_extensions]\n",
    "\n",
    "# Create a mapping between CSV file names and related_table_name values\n",
    "csv_to_table_name = {\n",
    "    '01_hospital.csv': 'hospital',\n",
    "    '02_pharmacy.csv': 'pharmacy',\n",
    "    '03_laundry.csv': 'laundry',\n",
    "    '04_hair.csv': 'hair',\n",
    "    '05_gym.csv': 'gym',\n",
    "    '06_mart.csv': 'mart',\n",
    "    '07_cafe.csv': 'cafe',\n",
    "    '08_convenience.csv': 'convenience',\n",
    "}\n",
    "\n",
    "for image_file in image_files:\n",
    "    # Extract the CSV file name from the image_file name\n",
    "    csv_file_name = image_file.split('_')[0] + '_' + image_file.split('_')[1] + '.csv'\n",
    "    related_table_name = csv_to_table_name.get(csv_file_name, 'unknown')\n",
    "\n",
    "    image_path = os.path.join(image_path, image_file)\n",
    "    dbm.insert_image_path(image_path, related_table_name=related_table_name, related_table_id=1)\n"
   ]
  }
 ],
 "metadata": {
  "kernelspec": {
   "display_name": "Python 3 (ipykernel)",
   "language": "python",
   "name": "python3"
  },
  "language_info": {
   "codemirror_mode": {
    "name": "ipython",
    "version": 3
   },
   "file_extension": ".py",
   "mimetype": "text/x-python",
   "name": "python",
   "nbconvert_exporter": "python",
   "pygments_lexer": "ipython3",
   "version": "3.10.11"
  }
 },
 "nbformat": 4,
 "nbformat_minor": 5
}
